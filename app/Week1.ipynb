{
 "cells": [
  {
   "cell_type": "markdown",
   "metadata": {},
   "source": [
    "# Linear Regression\n",
    "\n",
    "In this part of this exercise, you will implement linear regression with one\n",
    "variable to predict profits for a food truck. Suppose you are the CEO of a\n",
    "restaurant franchise and are considering different cities for opening a new\n",
    "outlet. The chain already has trucks in various cities and you have data for\n",
    "profits and populations from the cities.\n",
    "\n",
    "Let's start by importing all the libraries we'll need for our analysis."
   ]
  },
  {
   "cell_type": "code",
   "execution_count": 1,
   "metadata": {},
   "outputs": [],
   "source": [
    ":load PathToProject/CourseraMachineLearning/src/Util.hs\n",
    "import qualified Graphics.Gnuplot.Advanced as GP\n",
    "\n",
    "import qualified Graphics.Gnuplot.Graph as Graph\n",
    "\n",
    "import qualified Graphics.Gnuplot.Plot.ThreeDimensional as Plot3D\n",
    "import qualified Graphics.Gnuplot.Graph.ThreeDimensional as Graph3D\n",
    "\n",
    "import qualified Graphics.Gnuplot.Plot.TwoDimensional as Plot2D\n",
    "import qualified Graphics.Gnuplot.Graph.TwoDimensional as Graph2D\n",
    "import qualified Graphics.Gnuplot.Terminal.Default as DefaultTerm\n",
    "import Graphics.Gnuplot.Plot.TwoDimensional (linearScale, )\n",
    "\n",
    "import Numeric.LinearAlgebra\n",
    "import Prelude hiding ((<>))\n",
    "import System.Directory\n",
    "import System.IO.Unsafe (unsafePerformIO)\n",
    "import Util\n",
    "\n",
    "import IHaskell.Display.Gnuplot\n",
    "import qualified IHaskell.Display as D"
   ]
  },
  {
   "cell_type": "markdown",
   "metadata": {},
   "source": [
    "## Plotting the data\n",
    "\n",
    "Before starting on any task, it is often useful to understand the data by\n",
    "visualizing it. For this dataset, you can use a scatter plot to visualize the\n",
    "data, since it has only two properties to plot (profit and population). (Many\n",
    "other problems that you will encounter in real life are multi-dimensional and\n",
    "can’t be plotted on a 2-d plot.)"
   ]
  },
  {
   "cell_type": "code",
   "execution_count": 2,
   "metadata": {},
   "outputs": [
    {
     "data": {
      "image/png": "[encoded data removed]"
     },
     "metadata": {},
     "output_type": "display_data"
    }
   ],
   "source": [
    "home <- getHomeDirectory\n",
    "-- change this before running.\n",
    "let dataOne = home ++ \"/code/haskell/CourseraMachineLearning/app/ex1data1.txt\"\n",
    "[x'', y''] <- fmap toColumns (loadMatrix dataOne)\n",
    "x' = x''\n",
    "y' = y''\n",
    "D.Display [unsafePerformIO $ graphDataPNG2P (plotPoints (toList x') (toList y'))]"
   ]
  },
  {
   "cell_type": "markdown",
   "metadata": {},
   "source": [
    "## Gradient Descent\n",
    "\n",
    "In this part, you will fit the linear regression parameters θ to our dataset\n",
    "using gradient descent. As you perform gradient descent to learn minimize the cost function J(θ),\n",
    "it is helpful to monitor the convergence by computing the cost. So the firs thing we'll do is define a cost function to help us minimise our gradient descent."
   ]
  },
  {
   "cell_type": "code",
   "execution_count": 3,
   "metadata": {},
   "outputs": [],
   "source": [
    "computeCost :: Matrix Double -- Features\n",
    "            -> Matrix Double -- Labels\n",
    "            -> Matrix Double -- Theta\n",
    "            -> Double\n",
    "computeCost x y theta = (sumElements squareDifference) / (2.0 * m)\n",
    "  where m = fromIntegral ((fst . size) y)\n",
    "        h = x <> theta\n",
    "        squareDifference = (h - y) ^ 2"
   ]
  },
  {
   "cell_type": "markdown",
   "metadata": {},
   "source": [
    "### Computing the cost\n",
    "\n",
    "Once you have completed the function, the next step is to run\n",
    "computeCost once using θ initialized to zeros. You should expect to see a cost of 32.07."
   ]
  },
  {
   "cell_type": "code",
   "execution_count": 4,
   "metadata": {},
   "outputs": [
    {
     "data": {
      "text/plain": [
       "With theta = [0, 0]\n",
       " Cost computed = 32.072733877455654"
      ]
     },
     "metadata": {},
     "output_type": "display_data"
    },
    {
     "data": {
      "text/plain": [
       "Expected cost value (approx) 32.07"
      ]
     },
     "metadata": {},
     "output_type": "display_data"
    },
    {
     "data": {
      "text/plain": [
       "With theta = [-1, 2]\n",
       " Cost computed = 54.24245508201238"
      ]
     },
     "metadata": {},
     "output_type": "display_data"
    },
    {
     "data": {
      "text/plain": [
       "Expected cost value (approx) 54.24"
      ]
     },
     "metadata": {},
     "output_type": "display_data"
    }
   ],
   "source": [
    "-- Part 3: Cost and Gradient Descent\n",
    "m = size y'\n",
    "x = ones m 1 ||| reshape 1 x'\n",
    "y = asColumn y'\n",
    "xPoints = toList x'\n",
    "yPoints = toList y'\n",
    "theta = zeros 2 1\n",
    "iterations = 1500\n",
    "alpha = 0.01\n",
    "\n",
    "j = computeCost x y theta\n",
    "putStrLn (\"With theta = [0, 0]\\n Cost computed = \" ++ show j)\n",
    "putStrLn \"Expected cost value (approx) 32.07\"\n",
    "k = computeCost x y (asColumn $ 2 |> [-1, 2])\n",
    "putStrLn (\"With theta = [-1, 2]\\n Cost computed = \" ++ show k)\n",
    "putStrLn \"Expected cost value (approx) 54.24\""
   ]
  },
  {
   "cell_type": "markdown",
   "metadata": {},
   "source": [
    "### Implementing gradient descent\n",
    "\n",
    "Write out gradient descent."
   ]
  },
  {
   "cell_type": "code",
   "execution_count": 5,
   "metadata": {},
   "outputs": [],
   "source": [
    "-- A simple gradient descent algorithm that specifies an arbitrary number of iterations.\n",
    "gradientDescent :: Matrix Double -- Features\n",
    "                -> Matrix Double -- Labels\n",
    "                -> Matrix Double -- Parameters\n",
    "                -> Double        -- Learning Rate\n",
    "                -> Int           -- Number of iterations\n",
    "                -> ([Double], Matrix Double)\n",
    "gradientDescent x y theta alpha numIters = gradientDescent' x y theta alpha numIters []\n",
    "\n",
    "gradientDescent' :: Matrix Double -- Features\n",
    "                 -> Matrix Double -- Labels\n",
    "                 -> Matrix Double -- Parameters\n",
    "                 -> Double        -- Learning Rate\n",
    "                 -> Int           -- Number of Iterations\n",
    "                 -> [Double]      -- Cost history\n",
    "                 -> ([Double], Matrix Double)\n",
    "gradientDescent' x y theta alpha iterations hist\n",
    "  | iterations > 0   = gradientDescent' x y theta' alpha (iterations - 1) hist'\n",
    "  | otherwise        = (hist' , theta)\n",
    "    where cost  = computeCost x y theta\n",
    "          hist' = cost : hist\n",
    "          theta' = theta - step\n",
    "          step = (scalar alpha) * ((tr' x) <> ((x <> theta) - y)) / (scalar m)\n",
    "          m = fromIntegral ((fst . size) y)"
   ]
  },
  {
   "cell_type": "code",
   "execution_count": 6,
   "metadata": {},
   "outputs": [
    {
     "data": {
      "text/plain": [
       "Theta found by gradient descent: (2><1)\n",
       " [ -3.63029143940436\n",
       " , 1.166362350335582 ]"
      ]
     },
     "metadata": {},
     "output_type": "display_data"
    },
    {
     "data": {
      "text/plain": [
       "Expected theta values (approx)"
      ]
     },
     "metadata": {},
     "output_type": "display_data"
    },
    {
     "data": {
      "text/plain": [
       " -3.6303\n",
       "  1.1664"
      ]
     },
     "metadata": {},
     "output_type": "display_data"
    },
    {
     "data": {
      "image/png": "[encoded data removed]"
     },
     "metadata": {},
     "output_type": "display_data"
    }
   ],
   "source": [
    "(costHist, thetaOpt) = gradientDescent  x y theta alpha iterations\n",
    "putStrLn (\"Theta found by gradient descent: \" ++ show thetaOpt)\n",
    "putStrLn \"Expected theta values (approx)\\n\"\n",
    "putStrLn \" -3.6303\\n  1.1664\"\n",
    "yOptPoints = toList (flatten $ x <> thetaOpt)\n",
    "D.Display [unsafePerformIO $ graphDataPNG2P (plotLine xPoints yOptPoints `mappend` plotPoints xPoints yPoints)]"
   ]
  }
 ],
 "metadata": {
  "kernelspec": {
   "display_name": "Haskell",
   "language": "haskell",
   "name": "haskell"
  },
  "language_info": {
   "codemirror_mode": "ihaskell",
   "file_extension": ".hs",
   "name": "haskell",
   "pygments_lexer": "Haskell",
   "version": "8.2.2"
  }
 },
 "nbformat": 4,
 "nbformat_minor": 2
}
